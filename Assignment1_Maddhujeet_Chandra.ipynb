{
 "cells": [
  {
   "cell_type": "markdown",
   "metadata": {},
   "source": [
    "# EGRMGMT 590.10 Homework 1"
   ]
  },
  {
   "cell_type": "markdown",
   "metadata": {},
   "source": [
    "*Due at 6:15pm ET on Thursday, January 24*"
   ]
  },
  {
   "cell_type": "markdown",
   "metadata": {},
   "source": [
    "## Instructions"
   ]
  },
  {
   "cell_type": "markdown",
   "metadata": {},
   "source": [
    "+ Make sure you have pandas, NumPy, and pydataset installed before working on the assignment.\n",
    "+ There are 20 questions in total. The first 15 questions requires coding and the last 5 does not.\n",
    "    + For the 15 coding questions, submit both your code and the results upon running your code.\n",
    "    + For the 5 non-coding questions, submit your answers using Markdown or comments.\n",
    "+ Each question is worth 0.5 points. Your grades are based on the accuracy of the results, not the code execution speed.\n",
    "+ You can work on questions in your preferred order as the questions are independent with each another.\n",
    "+ Submit the .ipynb file to Sakai before 6:15pm ET on Thursday, January 24.\n",
    "+ Assignments handed in late will lose 1 point every 24-hour window after 6:15pm ET on Thursday, January 24."
   ]
  },
  {
   "cell_type": "markdown",
   "metadata": {},
   "source": [
    "## Coding Questions"
   ]
  },
  {
   "cell_type": "markdown",
   "metadata": {},
   "source": [
    "### Question 1"
   ]
  },
  {
   "cell_type": "markdown",
   "metadata": {},
   "source": [
    "Use an IPython built-in magic command to return the current working directory path"
   ]
  },
  {
   "cell_type": "code",
   "execution_count": 1,
   "metadata": {},
   "outputs": [
    {
     "data": {
      "text/plain": [
       "'C:\\\\Users\\\\maddh'"
      ]
     },
     "execution_count": 1,
     "metadata": {},
     "output_type": "execute_result"
    }
   ],
   "source": [
    "%pwd"
   ]
  },
  {
   "cell_type": "markdown",
   "metadata": {},
   "source": [
    "### Question 2"
   ]
  },
  {
   "cell_type": "markdown",
   "metadata": {},
   "source": [
    "Create a for loop to update the dictionary by_length which groups the words in the list word_samples by the length of words. The keys in by_length are the lengths of words."
   ]
  },
  {
   "cell_type": "code",
   "execution_count": 8,
   "metadata": {},
   "outputs": [],
   "source": [
    "word_samples = ['chalk', 'awk', 'pear', 'algebra', 'tie', 'nut', 'physics', 'magnolia', 'sycamore']\n",
    "by_length = {} "
   ]
  },
  {
   "cell_type": "code",
   "execution_count": 10,
   "metadata": {},
   "outputs": [
    {
     "data": {
      "text/plain": [
       "{5: 'chalk', 3: 'nut', 4: 'pear', 7: 'physics', 8: 'sycamore'}"
      ]
     },
     "execution_count": 10,
     "metadata": {},
     "output_type": "execute_result"
    }
   ],
   "source": [
    "for word in word_samples: \n",
    "    by_length.update({len(word):word}) #Updating the dictionary with words(as values) and their length(as keys)\n",
    "by_length"
   ]
  },
  {
   "cell_type": "markdown",
   "metadata": {},
   "source": [
    "### Question 3"
   ]
  },
  {
   "cell_type": "markdown",
   "metadata": {},
   "source": [
    "Use the map and lambda functions to create a list numbers_sq which contains the squared value of each element in the list numbers "
   ]
  },
  {
   "cell_type": "code",
   "execution_count": 11,
   "metadata": {},
   "outputs": [],
   "source": [
    "numbers = [1, 2, 3, 4]"
   ]
  },
  {
   "cell_type": "code",
   "execution_count": 13,
   "metadata": {},
   "outputs": [
    {
     "name": "stdout",
     "output_type": "stream",
     "text": [
      "[1, 4, 9, 16]\n"
     ]
    }
   ],
   "source": [
    "numbers_sq = map(lambda x : x*x, numbers)    #returns a list after applying lambda function for squaring elements in list \n",
    "print(list(numbers_sq))"
   ]
  },
  {
   "cell_type": "markdown",
   "metadata": {},
   "source": [
    "### Question 4"
   ]
  },
  {
   "cell_type": "markdown",
   "metadata": {},
   "source": [
    "Select every other element from list1 starting from the element with index = 1."
   ]
  },
  {
   "cell_type": "code",
   "execution_count": 14,
   "metadata": {},
   "outputs": [
    {
     "data": {
      "text/plain": [
       "array([6, 3, 7, 4, 6, 9, 2, 6, 7, 4, 3, 7, 7, 2, 5, 4, 1, 7, 5, 1])"
      ]
     },
     "execution_count": 14,
     "metadata": {},
     "output_type": "execute_result"
    }
   ],
   "source": [
    "import numpy as np\n",
    "np.random.seed(42)\n",
    "list1 = np.random.randint(0,10,20)\n",
    "list1"
   ]
  },
  {
   "cell_type": "code",
   "execution_count": 15,
   "metadata": {},
   "outputs": [
    {
     "data": {
      "text/plain": [
       "array([3, 4, 9, 6, 4, 7, 2, 4, 7, 1])"
      ]
     },
     "execution_count": 15,
     "metadata": {},
     "output_type": "execute_result"
    }
   ],
   "source": [
    "list1[1: :2]  #selecting and slicing the list with the given step"
   ]
  },
  {
   "cell_type": "markdown",
   "metadata": {},
   "source": [
    "### Question 5"
   ]
  },
  {
   "cell_type": "markdown",
   "metadata": {},
   "source": [
    "Rename the columns 0, 1, and 2 in the Dataframe df0 to \"apple\", \"banana\", and \"orange\" respectively"
   ]
  },
  {
   "cell_type": "code",
   "execution_count": 16,
   "metadata": {},
   "outputs": [
    {
     "data": {
      "text/html": [
       "<div>\n",
       "<style scoped>\n",
       "    .dataframe tbody tr th:only-of-type {\n",
       "        vertical-align: middle;\n",
       "    }\n",
       "\n",
       "    .dataframe tbody tr th {\n",
       "        vertical-align: top;\n",
       "    }\n",
       "\n",
       "    .dataframe thead th {\n",
       "        text-align: right;\n",
       "    }\n",
       "</style>\n",
       "<table border=\"1\" class=\"dataframe\">\n",
       "  <thead>\n",
       "    <tr style=\"text-align: right;\">\n",
       "      <th></th>\n",
       "      <th>0</th>\n",
       "      <th>1</th>\n",
       "      <th>2</th>\n",
       "    </tr>\n",
       "  </thead>\n",
       "  <tbody>\n",
       "    <tr>\n",
       "      <th>0</th>\n",
       "      <td>3</td>\n",
       "      <td>4</td>\n",
       "      <td>2</td>\n",
       "    </tr>\n",
       "    <tr>\n",
       "      <th>1</th>\n",
       "      <td>4</td>\n",
       "      <td>4</td>\n",
       "      <td>1</td>\n",
       "    </tr>\n",
       "    <tr>\n",
       "      <th>2</th>\n",
       "      <td>2</td>\n",
       "      <td>2</td>\n",
       "      <td>2</td>\n",
       "    </tr>\n",
       "    <tr>\n",
       "      <th>3</th>\n",
       "      <td>4</td>\n",
       "      <td>3</td>\n",
       "      <td>2</td>\n",
       "    </tr>\n",
       "    <tr>\n",
       "      <th>4</th>\n",
       "      <td>4</td>\n",
       "      <td>1</td>\n",
       "      <td>3</td>\n",
       "    </tr>\n",
       "  </tbody>\n",
       "</table>\n",
       "</div>"
      ],
      "text/plain": [
       "   0  1  2\n",
       "0  3  4  2\n",
       "1  4  4  1\n",
       "2  2  2  2\n",
       "3  4  3  2\n",
       "4  4  1  3"
      ]
     },
     "execution_count": 16,
     "metadata": {},
     "output_type": "execute_result"
    }
   ],
   "source": [
    "import pandas as pd, numpy as np\n",
    "np.random.seed(42)\n",
    "df0 = pd.DataFrame(np.random.randint(low=0, high=5, size=(5, 3)))\n",
    "df0"
   ]
  },
  {
   "cell_type": "code",
   "execution_count": 27,
   "metadata": {},
   "outputs": [
    {
     "data": {
      "text/html": [
       "<div>\n",
       "<style scoped>\n",
       "    .dataframe tbody tr th:only-of-type {\n",
       "        vertical-align: middle;\n",
       "    }\n",
       "\n",
       "    .dataframe tbody tr th {\n",
       "        vertical-align: top;\n",
       "    }\n",
       "\n",
       "    .dataframe thead th {\n",
       "        text-align: right;\n",
       "    }\n",
       "</style>\n",
       "<table border=\"1\" class=\"dataframe\">\n",
       "  <thead>\n",
       "    <tr style=\"text-align: right;\">\n",
       "      <th></th>\n",
       "      <th>apple</th>\n",
       "      <th>banana</th>\n",
       "      <th>orange</th>\n",
       "    </tr>\n",
       "  </thead>\n",
       "  <tbody>\n",
       "    <tr>\n",
       "      <th>0</th>\n",
       "      <td>3</td>\n",
       "      <td>4</td>\n",
       "      <td>2</td>\n",
       "    </tr>\n",
       "    <tr>\n",
       "      <th>1</th>\n",
       "      <td>4</td>\n",
       "      <td>4</td>\n",
       "      <td>1</td>\n",
       "    </tr>\n",
       "    <tr>\n",
       "      <th>2</th>\n",
       "      <td>2</td>\n",
       "      <td>2</td>\n",
       "      <td>2</td>\n",
       "    </tr>\n",
       "    <tr>\n",
       "      <th>3</th>\n",
       "      <td>4</td>\n",
       "      <td>3</td>\n",
       "      <td>2</td>\n",
       "    </tr>\n",
       "    <tr>\n",
       "      <th>4</th>\n",
       "      <td>4</td>\n",
       "      <td>1</td>\n",
       "      <td>3</td>\n",
       "    </tr>\n",
       "  </tbody>\n",
       "</table>\n",
       "</div>"
      ],
      "text/plain": [
       "   apple  banana  orange\n",
       "0      3       4       2\n",
       "1      4       4       1\n",
       "2      2       2       2\n",
       "3      4       3       2\n",
       "4      4       1       3"
      ]
     },
     "execution_count": 27,
     "metadata": {},
     "output_type": "execute_result"
    }
   ],
   "source": [
    "df0.rename(columns={0:'apple',1:'banana',2:'orange'},inplace=True)  \n",
    "df0"
   ]
  },
  {
   "cell_type": "markdown",
   "metadata": {},
   "source": [
    "### Question 6"
   ]
  },
  {
   "cell_type": "markdown",
   "metadata": {},
   "source": [
    "Identify names of columns in the Dataframe df1 which have missing values"
   ]
  },
  {
   "cell_type": "code",
   "execution_count": 28,
   "metadata": {},
   "outputs": [
    {
     "data": {
      "text/html": [
       "<div>\n",
       "<style scoped>\n",
       "    .dataframe tbody tr th:only-of-type {\n",
       "        vertical-align: middle;\n",
       "    }\n",
       "\n",
       "    .dataframe tbody tr th {\n",
       "        vertical-align: top;\n",
       "    }\n",
       "\n",
       "    .dataframe thead th {\n",
       "        text-align: right;\n",
       "    }\n",
       "</style>\n",
       "<table border=\"1\" class=\"dataframe\">\n",
       "  <thead>\n",
       "    <tr style=\"text-align: right;\">\n",
       "      <th></th>\n",
       "      <th>a</th>\n",
       "      <th>b</th>\n",
       "      <th>c</th>\n",
       "    </tr>\n",
       "  </thead>\n",
       "  <tbody>\n",
       "    <tr>\n",
       "      <th>0</th>\n",
       "      <td>5</td>\n",
       "      <td>7.0</td>\n",
       "      <td>NaN</td>\n",
       "    </tr>\n",
       "    <tr>\n",
       "      <th>1</th>\n",
       "      <td>8</td>\n",
       "      <td>9.0</td>\n",
       "      <td>3.0</td>\n",
       "    </tr>\n",
       "    <tr>\n",
       "      <th>2</th>\n",
       "      <td>2</td>\n",
       "      <td>NaN</td>\n",
       "      <td>2.0</td>\n",
       "    </tr>\n",
       "    <tr>\n",
       "      <th>3</th>\n",
       "      <td>0</td>\n",
       "      <td>1.0</td>\n",
       "      <td>8.0</td>\n",
       "    </tr>\n",
       "  </tbody>\n",
       "</table>\n",
       "</div>"
      ],
      "text/plain": [
       "   a    b    c\n",
       "0  5  7.0  NaN\n",
       "1  8  9.0  3.0\n",
       "2  2  NaN  2.0\n",
       "3  0  1.0  8.0"
      ]
     },
     "execution_count": 28,
     "metadata": {},
     "output_type": "execute_result"
    }
   ],
   "source": [
    "import pandas as pd, numpy as np\n",
    "sample_data = {'a': [5, 8, 2, 0], 'b': [7, 9, np.NaN, 1], 'c': [np.NaN, 3, 2, 8] }\n",
    "df1 = pd.DataFrame(data = sample_data)\n",
    "df1"
   ]
  },
  {
   "cell_type": "code",
   "execution_count": 150,
   "metadata": {},
   "outputs": [
    {
     "data": {
      "text/plain": [
       "a    False\n",
       "b     True\n",
       "c     True\n",
       "dtype: bool"
      ]
     },
     "execution_count": 150,
     "metadata": {},
     "output_type": "execute_result"
    }
   ],
   "source": [
    "df1.isnull().any() #returns true against the name of columns satisfying the condition"
   ]
  },
  {
   "cell_type": "markdown",
   "metadata": {},
   "source": [
    "### Question 7"
   ]
  },
  {
   "cell_type": "markdown",
   "metadata": {},
   "source": [
    "Select rows in the Dataframe df1 which have no missing values in both column b and c"
   ]
  },
  {
   "cell_type": "code",
   "execution_count": 43,
   "metadata": {},
   "outputs": [
    {
     "data": {
      "text/html": [
       "<div>\n",
       "<style scoped>\n",
       "    .dataframe tbody tr th:only-of-type {\n",
       "        vertical-align: middle;\n",
       "    }\n",
       "\n",
       "    .dataframe tbody tr th {\n",
       "        vertical-align: top;\n",
       "    }\n",
       "\n",
       "    .dataframe thead th {\n",
       "        text-align: right;\n",
       "    }\n",
       "</style>\n",
       "<table border=\"1\" class=\"dataframe\">\n",
       "  <thead>\n",
       "    <tr style=\"text-align: right;\">\n",
       "      <th></th>\n",
       "      <th>a</th>\n",
       "      <th>b</th>\n",
       "      <th>c</th>\n",
       "    </tr>\n",
       "  </thead>\n",
       "  <tbody>\n",
       "    <tr>\n",
       "      <th>0</th>\n",
       "      <td>5</td>\n",
       "      <td>7.0</td>\n",
       "      <td>NaN</td>\n",
       "    </tr>\n",
       "    <tr>\n",
       "      <th>1</th>\n",
       "      <td>8</td>\n",
       "      <td>9.0</td>\n",
       "      <td>3.0</td>\n",
       "    </tr>\n",
       "    <tr>\n",
       "      <th>2</th>\n",
       "      <td>2</td>\n",
       "      <td>NaN</td>\n",
       "      <td>2.0</td>\n",
       "    </tr>\n",
       "    <tr>\n",
       "      <th>3</th>\n",
       "      <td>0</td>\n",
       "      <td>1.0</td>\n",
       "      <td>8.0</td>\n",
       "    </tr>\n",
       "  </tbody>\n",
       "</table>\n",
       "</div>"
      ],
      "text/plain": [
       "   a    b    c\n",
       "0  5  7.0  NaN\n",
       "1  8  9.0  3.0\n",
       "2  2  NaN  2.0\n",
       "3  0  1.0  8.0"
      ]
     },
     "execution_count": 43,
     "metadata": {},
     "output_type": "execute_result"
    }
   ],
   "source": [
    "import pandas as pd, numpy as np\n",
    "sample_data = {'a': [5, 8, 2, 0], 'b': [7, 9, np.NaN, 1], 'c': [np.NaN, 3, 2, 8] }\n",
    "df1 = pd.DataFrame(data = sample_data)\n",
    "df1"
   ]
  },
  {
   "cell_type": "code",
   "execution_count": 74,
   "metadata": {},
   "outputs": [
    {
     "data": {
      "text/html": [
       "<div>\n",
       "<style scoped>\n",
       "    .dataframe tbody tr th:only-of-type {\n",
       "        vertical-align: middle;\n",
       "    }\n",
       "\n",
       "    .dataframe tbody tr th {\n",
       "        vertical-align: top;\n",
       "    }\n",
       "\n",
       "    .dataframe thead th {\n",
       "        text-align: right;\n",
       "    }\n",
       "</style>\n",
       "<table border=\"1\" class=\"dataframe\">\n",
       "  <thead>\n",
       "    <tr style=\"text-align: right;\">\n",
       "      <th></th>\n",
       "      <th>a</th>\n",
       "      <th>b</th>\n",
       "      <th>c</th>\n",
       "    </tr>\n",
       "  </thead>\n",
       "  <tbody>\n",
       "    <tr>\n",
       "      <th>1</th>\n",
       "      <td>8</td>\n",
       "      <td>9.0</td>\n",
       "      <td>3.0</td>\n",
       "    </tr>\n",
       "    <tr>\n",
       "      <th>3</th>\n",
       "      <td>0</td>\n",
       "      <td>1.0</td>\n",
       "      <td>8.0</td>\n",
       "    </tr>\n",
       "  </tbody>\n",
       "</table>\n",
       "</div>"
      ],
      "text/plain": [
       "   a    b    c\n",
       "1  8  9.0  3.0\n",
       "3  0  1.0  8.0"
      ]
     },
     "execution_count": 74,
     "metadata": {},
     "output_type": "execute_result"
    }
   ],
   "source": [
    "rows = df1[df1.isnull().any(1) == False] #select rows satisfying the condition \n",
    "rows"
   ]
  },
  {
   "cell_type": "markdown",
   "metadata": {},
   "source": [
    "### Question 8"
   ]
  },
  {
   "cell_type": "markdown",
   "metadata": {},
   "source": [
    "Use the Dataframe df2 and calculate the average Sepal.Length and Sepal.Width of all the instances whose Species are versicolor or virginica"
   ]
  },
  {
   "cell_type": "code",
   "execution_count": 82,
   "metadata": {},
   "outputs": [
    {
     "name": "stdout",
     "output_type": "stream",
     "text": [
      "Collecting pydataset\n",
      "  Downloading https://files.pythonhosted.org/packages/4f/15/548792a1bb9caf6a3affd61c64d306b08c63c8a5a49e2c2d931b67ec2108/pydataset-0.2.0.tar.gz (15.9MB)\n",
      "Requirement already satisfied: pandas in c:\\users\\maddh\\anaconda3\\lib\\site-packages (from pydataset) (0.23.4)\n",
      "Requirement already satisfied: python-dateutil>=2.5.0 in c:\\users\\maddh\\anaconda3\\lib\\site-packages (from pandas->pydataset) (2.7.3)\n",
      "Requirement already satisfied: pytz>=2011k in c:\\users\\maddh\\anaconda3\\lib\\site-packages (from pandas->pydataset) (2018.5)\n",
      "Requirement already satisfied: numpy>=1.9.0 in c:\\users\\maddh\\anaconda3\\lib\\site-packages (from pandas->pydataset) (1.15.1)\n",
      "Requirement already satisfied: six>=1.5 in c:\\users\\maddh\\anaconda3\\lib\\site-packages (from python-dateutil>=2.5.0->pandas->pydataset) (1.11.0)\n",
      "Building wheels for collected packages: pydataset\n",
      "  Running setup.py bdist_wheel for pydataset: started\n",
      "  Running setup.py bdist_wheel for pydataset: finished with status 'done'\n",
      "  Stored in directory: C:\\Users\\maddh\\AppData\\Local\\pip\\Cache\\wheels\\fe\\3f\\dc\\5d02ccc767317191b12d042dd920fcf3432fab74bc7978598b\n",
      "Successfully built pydataset\n",
      "Installing collected packages: pydataset\n",
      "Successfully installed pydataset-0.2.0\n"
     ]
    }
   ],
   "source": [
    "!pip install pydataset"
   ]
  },
  {
   "cell_type": "code",
   "execution_count": 20,
   "metadata": {},
   "outputs": [
    {
     "data": {
      "text/html": [
       "<div>\n",
       "<style scoped>\n",
       "    .dataframe tbody tr th:only-of-type {\n",
       "        vertical-align: middle;\n",
       "    }\n",
       "\n",
       "    .dataframe tbody tr th {\n",
       "        vertical-align: top;\n",
       "    }\n",
       "\n",
       "    .dataframe thead th {\n",
       "        text-align: right;\n",
       "    }\n",
       "</style>\n",
       "<table border=\"1\" class=\"dataframe\">\n",
       "  <thead>\n",
       "    <tr style=\"text-align: right;\">\n",
       "      <th></th>\n",
       "      <th>Sepal.Length</th>\n",
       "      <th>Sepal.Width</th>\n",
       "      <th>Petal.Length</th>\n",
       "      <th>Petal.Width</th>\n",
       "      <th>Species</th>\n",
       "    </tr>\n",
       "  </thead>\n",
       "  <tbody>\n",
       "    <tr>\n",
       "      <th>1</th>\n",
       "      <td>5.1</td>\n",
       "      <td>3.5</td>\n",
       "      <td>1.4</td>\n",
       "      <td>0.2</td>\n",
       "      <td>setosa</td>\n",
       "    </tr>\n",
       "    <tr>\n",
       "      <th>2</th>\n",
       "      <td>4.9</td>\n",
       "      <td>3.0</td>\n",
       "      <td>1.4</td>\n",
       "      <td>0.2</td>\n",
       "      <td>setosa</td>\n",
       "    </tr>\n",
       "    <tr>\n",
       "      <th>3</th>\n",
       "      <td>4.7</td>\n",
       "      <td>3.2</td>\n",
       "      <td>1.3</td>\n",
       "      <td>0.2</td>\n",
       "      <td>setosa</td>\n",
       "    </tr>\n",
       "    <tr>\n",
       "      <th>4</th>\n",
       "      <td>4.6</td>\n",
       "      <td>3.1</td>\n",
       "      <td>1.5</td>\n",
       "      <td>0.2</td>\n",
       "      <td>setosa</td>\n",
       "    </tr>\n",
       "    <tr>\n",
       "      <th>5</th>\n",
       "      <td>5.0</td>\n",
       "      <td>3.6</td>\n",
       "      <td>1.4</td>\n",
       "      <td>0.2</td>\n",
       "      <td>setosa</td>\n",
       "    </tr>\n",
       "  </tbody>\n",
       "</table>\n",
       "</div>"
      ],
      "text/plain": [
       "   Sepal.Length  Sepal.Width  Petal.Length  Petal.Width Species\n",
       "1           5.1          3.5           1.4          0.2  setosa\n",
       "2           4.9          3.0           1.4          0.2  setosa\n",
       "3           4.7          3.2           1.3          0.2  setosa\n",
       "4           4.6          3.1           1.5          0.2  setosa\n",
       "5           5.0          3.6           1.4          0.2  setosa"
      ]
     },
     "execution_count": 20,
     "metadata": {},
     "output_type": "execute_result"
    }
   ],
   "source": [
    "from pydataset import data\n",
    "import pandas as pd\n",
    "df2 = data('iris')\n",
    "df2.head()"
   ]
  },
  {
   "cell_type": "code",
   "execution_count": 22,
   "metadata": {},
   "outputs": [
    {
     "name": "stdout",
     "output_type": "stream",
     "text": [
      "Average sepal length is: 6.2620000000000005\n",
      "Average sepal width is: 2.8719999999999994\n"
     ]
    }
   ],
   "source": [
    "df2new = df2.loc[df2.Species != 'setosa']  #creating new dataframe satifying the condition\n",
    "sepal_len_avg = df2new['Sepal.Length'].sum()/df2new['Sepal.Length'].count() \n",
    "sepal_width_avg = df2new['Sepal.Width'].sum()/df2new['Sepal.Width'].count()\n",
    "print(\"Average sepal length is:\", sepal_len_avg)\n",
    "print( \"Average sepal width is:\", sepal_width_avg)"
   ]
  },
  {
   "cell_type": "markdown",
   "metadata": {},
   "source": [
    "### Question 9"
   ]
  },
  {
   "cell_type": "markdown",
   "metadata": {},
   "source": [
    "For the Dataframe df3, return the names of columns whose data type is 'int64'"
   ]
  },
  {
   "cell_type": "code",
   "execution_count": 119,
   "metadata": {},
   "outputs": [
    {
     "data": {
      "text/html": [
       "<div>\n",
       "<style scoped>\n",
       "    .dataframe tbody tr th:only-of-type {\n",
       "        vertical-align: middle;\n",
       "    }\n",
       "\n",
       "    .dataframe tbody tr th {\n",
       "        vertical-align: top;\n",
       "    }\n",
       "\n",
       "    .dataframe thead th {\n",
       "        text-align: right;\n",
       "    }\n",
       "</style>\n",
       "<table border=\"1\" class=\"dataframe\">\n",
       "  <thead>\n",
       "    <tr style=\"text-align: right;\">\n",
       "      <th></th>\n",
       "      <th>Country</th>\n",
       "      <th>Disp</th>\n",
       "      <th>Disp2</th>\n",
       "      <th>Eng.Rev</th>\n",
       "      <th>Front.Hd</th>\n",
       "      <th>Frt.Leg.Room</th>\n",
       "      <th>Frt.Shld</th>\n",
       "      <th>Gear.Ratio</th>\n",
       "      <th>Gear2</th>\n",
       "      <th>HP</th>\n",
       "      <th>...</th>\n",
       "      <th>Steering</th>\n",
       "      <th>Tank</th>\n",
       "      <th>Tires</th>\n",
       "      <th>Trans1</th>\n",
       "      <th>Trans2</th>\n",
       "      <th>Turning</th>\n",
       "      <th>Type</th>\n",
       "      <th>Weight</th>\n",
       "      <th>Wheel.base</th>\n",
       "      <th>Width</th>\n",
       "    </tr>\n",
       "  </thead>\n",
       "  <tbody>\n",
       "    <tr>\n",
       "      <th>Acura Integra</th>\n",
       "      <td>Japan</td>\n",
       "      <td>112.0</td>\n",
       "      <td>1.8</td>\n",
       "      <td>2935.0</td>\n",
       "      <td>3.5</td>\n",
       "      <td>41.5</td>\n",
       "      <td>53.0</td>\n",
       "      <td>3.26</td>\n",
       "      <td>3.21</td>\n",
       "      <td>130.0</td>\n",
       "      <td>...</td>\n",
       "      <td>power</td>\n",
       "      <td>13.2</td>\n",
       "      <td>195/60</td>\n",
       "      <td>man.5</td>\n",
       "      <td>auto.4</td>\n",
       "      <td>37.0</td>\n",
       "      <td>Small</td>\n",
       "      <td>2700.0</td>\n",
       "      <td>102</td>\n",
       "      <td>67</td>\n",
       "    </tr>\n",
       "    <tr>\n",
       "      <th>Acura Legend</th>\n",
       "      <td>Japan</td>\n",
       "      <td>163.0</td>\n",
       "      <td>2.7</td>\n",
       "      <td>2505.0</td>\n",
       "      <td>2.0</td>\n",
       "      <td>41.5</td>\n",
       "      <td>55.5</td>\n",
       "      <td>2.95</td>\n",
       "      <td>3.02</td>\n",
       "      <td>160.0</td>\n",
       "      <td>...</td>\n",
       "      <td>power</td>\n",
       "      <td>18.0</td>\n",
       "      <td>205/60</td>\n",
       "      <td>man.5</td>\n",
       "      <td>auto.4</td>\n",
       "      <td>42.0</td>\n",
       "      <td>Medium</td>\n",
       "      <td>3265.0</td>\n",
       "      <td>109</td>\n",
       "      <td>69</td>\n",
       "    </tr>\n",
       "    <tr>\n",
       "      <th>Audi 100</th>\n",
       "      <td>Germany</td>\n",
       "      <td>141.0</td>\n",
       "      <td>2.3</td>\n",
       "      <td>2775.0</td>\n",
       "      <td>2.5</td>\n",
       "      <td>41.5</td>\n",
       "      <td>56.5</td>\n",
       "      <td>3.27</td>\n",
       "      <td>3.25</td>\n",
       "      <td>130.0</td>\n",
       "      <td>...</td>\n",
       "      <td>power</td>\n",
       "      <td>21.1</td>\n",
       "      <td>205/60</td>\n",
       "      <td>man.5</td>\n",
       "      <td>auto.3</td>\n",
       "      <td>39.0</td>\n",
       "      <td>Medium</td>\n",
       "      <td>2935.0</td>\n",
       "      <td>106</td>\n",
       "      <td>71</td>\n",
       "    </tr>\n",
       "    <tr>\n",
       "      <th>Audi 80</th>\n",
       "      <td>Germany</td>\n",
       "      <td>121.0</td>\n",
       "      <td>2.0</td>\n",
       "      <td>2835.0</td>\n",
       "      <td>4.0</td>\n",
       "      <td>42.0</td>\n",
       "      <td>52.5</td>\n",
       "      <td>3.25</td>\n",
       "      <td>3.25</td>\n",
       "      <td>108.0</td>\n",
       "      <td>...</td>\n",
       "      <td>power</td>\n",
       "      <td>15.9</td>\n",
       "      <td>175/70</td>\n",
       "      <td>man.5</td>\n",
       "      <td>auto.3</td>\n",
       "      <td>35.0</td>\n",
       "      <td>Compact</td>\n",
       "      <td>2670.0</td>\n",
       "      <td>100</td>\n",
       "      <td>67</td>\n",
       "    </tr>\n",
       "    <tr>\n",
       "      <th>BMW 325i</th>\n",
       "      <td>Germany</td>\n",
       "      <td>152.0</td>\n",
       "      <td>2.5</td>\n",
       "      <td>2625.0</td>\n",
       "      <td>2.0</td>\n",
       "      <td>42.0</td>\n",
       "      <td>52.0</td>\n",
       "      <td>3.02</td>\n",
       "      <td>2.99</td>\n",
       "      <td>168.0</td>\n",
       "      <td>...</td>\n",
       "      <td>power</td>\n",
       "      <td>16.4</td>\n",
       "      <td>195/65</td>\n",
       "      <td>man.5</td>\n",
       "      <td>auto.4</td>\n",
       "      <td>35.0</td>\n",
       "      <td>Compact</td>\n",
       "      <td>2895.0</td>\n",
       "      <td>101</td>\n",
       "      <td>65</td>\n",
       "    </tr>\n",
       "  </tbody>\n",
       "</table>\n",
       "<p>5 rows × 34 columns</p>\n",
       "</div>"
      ],
      "text/plain": [
       "               Country   Disp  Disp2  Eng.Rev  Front.Hd  Frt.Leg.Room  \\\n",
       "Acura Integra    Japan  112.0    1.8   2935.0       3.5          41.5   \n",
       "Acura Legend     Japan  163.0    2.7   2505.0       2.0          41.5   \n",
       "Audi 100       Germany  141.0    2.3   2775.0       2.5          41.5   \n",
       "Audi 80        Germany  121.0    2.0   2835.0       4.0          42.0   \n",
       "BMW 325i       Germany  152.0    2.5   2625.0       2.0          42.0   \n",
       "\n",
       "               Frt.Shld  Gear.Ratio  Gear2     HP  ...    Steering  Tank  \\\n",
       "Acura Integra      53.0        3.26   3.21  130.0  ...       power  13.2   \n",
       "Acura Legend       55.5        2.95   3.02  160.0  ...       power  18.0   \n",
       "Audi 100           56.5        3.27   3.25  130.0  ...       power  21.1   \n",
       "Audi 80            52.5        3.25   3.25  108.0  ...       power  15.9   \n",
       "BMW 325i           52.0        3.02   2.99  168.0  ...       power  16.4   \n",
       "\n",
       "                Tires  Trans1  Trans2 Turning     Type  Weight  Wheel.base  \\\n",
       "Acura Integra  195/60   man.5  auto.4    37.0    Small  2700.0         102   \n",
       "Acura Legend   205/60   man.5  auto.4    42.0   Medium  3265.0         109   \n",
       "Audi 100       205/60   man.5  auto.3    39.0   Medium  2935.0         106   \n",
       "Audi 80        175/70   man.5  auto.3    35.0  Compact  2670.0         100   \n",
       "BMW 325i       195/65   man.5  auto.4    35.0  Compact  2895.0         101   \n",
       "\n",
       "               Width  \n",
       "Acura Integra     67  \n",
       "Acura Legend      69  \n",
       "Audi 100          71  \n",
       "Audi 80           67  \n",
       "BMW 325i          65  \n",
       "\n",
       "[5 rows x 34 columns]"
      ]
     },
     "execution_count": 119,
     "metadata": {},
     "output_type": "execute_result"
    }
   ],
   "source": [
    "from pydataset import data\n",
    "import pandas as pd\n",
    "df3 = data('car90')\n",
    "df3.head()"
   ]
  },
  {
   "cell_type": "code",
   "execution_count": 146,
   "metadata": {},
   "outputs": [
    {
     "name": "stdout",
     "output_type": "stream",
     "text": [
      "['Length' 'Luggage' 'Wheel.base' 'Width']\n"
     ]
    }
   ],
   "source": [
    "print(df3.loc[:, df3.dtypes == np.int64].any().index.values)  #returns index values for the given condition"
   ]
  },
  {
   "cell_type": "markdown",
   "metadata": {},
   "source": [
    "### Question 10"
   ]
  },
  {
   "cell_type": "markdown",
   "metadata": {},
   "source": [
    "1) Add a new column 'Size' to the Dataframe df3 which sums up the Height, Length, and Width for each row"
   ]
  },
  {
   "cell_type": "markdown",
   "metadata": {},
   "source": [
    "2) Calculate the summary statistics of the column 'Size', e.g. count, mean, standard deviation, minimum, 1st quartile, median, 3rd quartile, and maximum"
   ]
  },
  {
   "cell_type": "code",
   "execution_count": 151,
   "metadata": {},
   "outputs": [
    {
     "data": {
      "text/html": [
       "<div>\n",
       "<style scoped>\n",
       "    .dataframe tbody tr th:only-of-type {\n",
       "        vertical-align: middle;\n",
       "    }\n",
       "\n",
       "    .dataframe tbody tr th {\n",
       "        vertical-align: top;\n",
       "    }\n",
       "\n",
       "    .dataframe thead th {\n",
       "        text-align: right;\n",
       "    }\n",
       "</style>\n",
       "<table border=\"1\" class=\"dataframe\">\n",
       "  <thead>\n",
       "    <tr style=\"text-align: right;\">\n",
       "      <th></th>\n",
       "      <th>Country</th>\n",
       "      <th>Disp</th>\n",
       "      <th>Disp2</th>\n",
       "      <th>Eng.Rev</th>\n",
       "      <th>Front.Hd</th>\n",
       "      <th>Frt.Leg.Room</th>\n",
       "      <th>Frt.Shld</th>\n",
       "      <th>Gear.Ratio</th>\n",
       "      <th>Gear2</th>\n",
       "      <th>HP</th>\n",
       "      <th>...</th>\n",
       "      <th>Steering</th>\n",
       "      <th>Tank</th>\n",
       "      <th>Tires</th>\n",
       "      <th>Trans1</th>\n",
       "      <th>Trans2</th>\n",
       "      <th>Turning</th>\n",
       "      <th>Type</th>\n",
       "      <th>Weight</th>\n",
       "      <th>Wheel.base</th>\n",
       "      <th>Width</th>\n",
       "    </tr>\n",
       "  </thead>\n",
       "  <tbody>\n",
       "    <tr>\n",
       "      <th>Acura Integra</th>\n",
       "      <td>Japan</td>\n",
       "      <td>112.0</td>\n",
       "      <td>1.8</td>\n",
       "      <td>2935.0</td>\n",
       "      <td>3.5</td>\n",
       "      <td>41.5</td>\n",
       "      <td>53.0</td>\n",
       "      <td>3.26</td>\n",
       "      <td>3.21</td>\n",
       "      <td>130.0</td>\n",
       "      <td>...</td>\n",
       "      <td>power</td>\n",
       "      <td>13.2</td>\n",
       "      <td>195/60</td>\n",
       "      <td>man.5</td>\n",
       "      <td>auto.4</td>\n",
       "      <td>37.0</td>\n",
       "      <td>Small</td>\n",
       "      <td>2700.0</td>\n",
       "      <td>102</td>\n",
       "      <td>67</td>\n",
       "    </tr>\n",
       "    <tr>\n",
       "      <th>Acura Legend</th>\n",
       "      <td>Japan</td>\n",
       "      <td>163.0</td>\n",
       "      <td>2.7</td>\n",
       "      <td>2505.0</td>\n",
       "      <td>2.0</td>\n",
       "      <td>41.5</td>\n",
       "      <td>55.5</td>\n",
       "      <td>2.95</td>\n",
       "      <td>3.02</td>\n",
       "      <td>160.0</td>\n",
       "      <td>...</td>\n",
       "      <td>power</td>\n",
       "      <td>18.0</td>\n",
       "      <td>205/60</td>\n",
       "      <td>man.5</td>\n",
       "      <td>auto.4</td>\n",
       "      <td>42.0</td>\n",
       "      <td>Medium</td>\n",
       "      <td>3265.0</td>\n",
       "      <td>109</td>\n",
       "      <td>69</td>\n",
       "    </tr>\n",
       "    <tr>\n",
       "      <th>Audi 100</th>\n",
       "      <td>Germany</td>\n",
       "      <td>141.0</td>\n",
       "      <td>2.3</td>\n",
       "      <td>2775.0</td>\n",
       "      <td>2.5</td>\n",
       "      <td>41.5</td>\n",
       "      <td>56.5</td>\n",
       "      <td>3.27</td>\n",
       "      <td>3.25</td>\n",
       "      <td>130.0</td>\n",
       "      <td>...</td>\n",
       "      <td>power</td>\n",
       "      <td>21.1</td>\n",
       "      <td>205/60</td>\n",
       "      <td>man.5</td>\n",
       "      <td>auto.3</td>\n",
       "      <td>39.0</td>\n",
       "      <td>Medium</td>\n",
       "      <td>2935.0</td>\n",
       "      <td>106</td>\n",
       "      <td>71</td>\n",
       "    </tr>\n",
       "    <tr>\n",
       "      <th>Audi 80</th>\n",
       "      <td>Germany</td>\n",
       "      <td>121.0</td>\n",
       "      <td>2.0</td>\n",
       "      <td>2835.0</td>\n",
       "      <td>4.0</td>\n",
       "      <td>42.0</td>\n",
       "      <td>52.5</td>\n",
       "      <td>3.25</td>\n",
       "      <td>3.25</td>\n",
       "      <td>108.0</td>\n",
       "      <td>...</td>\n",
       "      <td>power</td>\n",
       "      <td>15.9</td>\n",
       "      <td>175/70</td>\n",
       "      <td>man.5</td>\n",
       "      <td>auto.3</td>\n",
       "      <td>35.0</td>\n",
       "      <td>Compact</td>\n",
       "      <td>2670.0</td>\n",
       "      <td>100</td>\n",
       "      <td>67</td>\n",
       "    </tr>\n",
       "    <tr>\n",
       "      <th>BMW 325i</th>\n",
       "      <td>Germany</td>\n",
       "      <td>152.0</td>\n",
       "      <td>2.5</td>\n",
       "      <td>2625.0</td>\n",
       "      <td>2.0</td>\n",
       "      <td>42.0</td>\n",
       "      <td>52.0</td>\n",
       "      <td>3.02</td>\n",
       "      <td>2.99</td>\n",
       "      <td>168.0</td>\n",
       "      <td>...</td>\n",
       "      <td>power</td>\n",
       "      <td>16.4</td>\n",
       "      <td>195/65</td>\n",
       "      <td>man.5</td>\n",
       "      <td>auto.4</td>\n",
       "      <td>35.0</td>\n",
       "      <td>Compact</td>\n",
       "      <td>2895.0</td>\n",
       "      <td>101</td>\n",
       "      <td>65</td>\n",
       "    </tr>\n",
       "  </tbody>\n",
       "</table>\n",
       "<p>5 rows × 34 columns</p>\n",
       "</div>"
      ],
      "text/plain": [
       "               Country   Disp  Disp2  Eng.Rev  Front.Hd  Frt.Leg.Room  \\\n",
       "Acura Integra    Japan  112.0    1.8   2935.0       3.5          41.5   \n",
       "Acura Legend     Japan  163.0    2.7   2505.0       2.0          41.5   \n",
       "Audi 100       Germany  141.0    2.3   2775.0       2.5          41.5   \n",
       "Audi 80        Germany  121.0    2.0   2835.0       4.0          42.0   \n",
       "BMW 325i       Germany  152.0    2.5   2625.0       2.0          42.0   \n",
       "\n",
       "               Frt.Shld  Gear.Ratio  Gear2     HP  ...    Steering  Tank  \\\n",
       "Acura Integra      53.0        3.26   3.21  130.0  ...       power  13.2   \n",
       "Acura Legend       55.5        2.95   3.02  160.0  ...       power  18.0   \n",
       "Audi 100           56.5        3.27   3.25  130.0  ...       power  21.1   \n",
       "Audi 80            52.5        3.25   3.25  108.0  ...       power  15.9   \n",
       "BMW 325i           52.0        3.02   2.99  168.0  ...       power  16.4   \n",
       "\n",
       "                Tires  Trans1  Trans2 Turning     Type  Weight  Wheel.base  \\\n",
       "Acura Integra  195/60   man.5  auto.4    37.0    Small  2700.0         102   \n",
       "Acura Legend   205/60   man.5  auto.4    42.0   Medium  3265.0         109   \n",
       "Audi 100       205/60   man.5  auto.3    39.0   Medium  2935.0         106   \n",
       "Audi 80        175/70   man.5  auto.3    35.0  Compact  2670.0         100   \n",
       "BMW 325i       195/65   man.5  auto.4    35.0  Compact  2895.0         101   \n",
       "\n",
       "               Width  \n",
       "Acura Integra     67  \n",
       "Acura Legend      69  \n",
       "Audi 100          71  \n",
       "Audi 80           67  \n",
       "BMW 325i          65  \n",
       "\n",
       "[5 rows x 34 columns]"
      ]
     },
     "execution_count": 151,
     "metadata": {},
     "output_type": "execute_result"
    }
   ],
   "source": [
    "from pydataset import data\n",
    "import pandas as pd\n",
    "df3 = data('car90')\n",
    "df3.head()"
   ]
  },
  {
   "cell_type": "code",
   "execution_count": 158,
   "metadata": {},
   "outputs": [
    {
     "data": {
      "text/plain": [
       "count    111.000000\n",
       "mean     299.635135\n",
       "std       18.774977\n",
       "min      256.000000\n",
       "25%      286.750000\n",
       "50%      299.000000\n",
       "75%      311.750000\n",
       "max      351.000000\n",
       "Name: Size, dtype: float64"
      ]
     },
     "execution_count": 158,
     "metadata": {},
     "output_type": "execute_result"
    }
   ],
   "source": [
    "df3['Size']=df3.Height+df3.Length+df3.Width #creating a new column\n",
    "df3['Size'].describe() "
   ]
  },
  {
   "cell_type": "markdown",
   "metadata": {},
   "source": [
    "### Question 11"
   ]
  },
  {
   "cell_type": "markdown",
   "metadata": {},
   "source": [
    "Identify the row index label (i.e. the car model) for the car with the most weight in the Dataframe df3 "
   ]
  },
  {
   "cell_type": "code",
   "execution_count": 159,
   "metadata": {},
   "outputs": [
    {
     "data": {
      "text/html": [
       "<div>\n",
       "<style scoped>\n",
       "    .dataframe tbody tr th:only-of-type {\n",
       "        vertical-align: middle;\n",
       "    }\n",
       "\n",
       "    .dataframe tbody tr th {\n",
       "        vertical-align: top;\n",
       "    }\n",
       "\n",
       "    .dataframe thead th {\n",
       "        text-align: right;\n",
       "    }\n",
       "</style>\n",
       "<table border=\"1\" class=\"dataframe\">\n",
       "  <thead>\n",
       "    <tr style=\"text-align: right;\">\n",
       "      <th></th>\n",
       "      <th>Country</th>\n",
       "      <th>Disp</th>\n",
       "      <th>Disp2</th>\n",
       "      <th>Eng.Rev</th>\n",
       "      <th>Front.Hd</th>\n",
       "      <th>Frt.Leg.Room</th>\n",
       "      <th>Frt.Shld</th>\n",
       "      <th>Gear.Ratio</th>\n",
       "      <th>Gear2</th>\n",
       "      <th>HP</th>\n",
       "      <th>...</th>\n",
       "      <th>Steering</th>\n",
       "      <th>Tank</th>\n",
       "      <th>Tires</th>\n",
       "      <th>Trans1</th>\n",
       "      <th>Trans2</th>\n",
       "      <th>Turning</th>\n",
       "      <th>Type</th>\n",
       "      <th>Weight</th>\n",
       "      <th>Wheel.base</th>\n",
       "      <th>Width</th>\n",
       "    </tr>\n",
       "  </thead>\n",
       "  <tbody>\n",
       "    <tr>\n",
       "      <th>Acura Integra</th>\n",
       "      <td>Japan</td>\n",
       "      <td>112.0</td>\n",
       "      <td>1.8</td>\n",
       "      <td>2935.0</td>\n",
       "      <td>3.5</td>\n",
       "      <td>41.5</td>\n",
       "      <td>53.0</td>\n",
       "      <td>3.26</td>\n",
       "      <td>3.21</td>\n",
       "      <td>130.0</td>\n",
       "      <td>...</td>\n",
       "      <td>power</td>\n",
       "      <td>13.2</td>\n",
       "      <td>195/60</td>\n",
       "      <td>man.5</td>\n",
       "      <td>auto.4</td>\n",
       "      <td>37.0</td>\n",
       "      <td>Small</td>\n",
       "      <td>2700.0</td>\n",
       "      <td>102</td>\n",
       "      <td>67</td>\n",
       "    </tr>\n",
       "    <tr>\n",
       "      <th>Acura Legend</th>\n",
       "      <td>Japan</td>\n",
       "      <td>163.0</td>\n",
       "      <td>2.7</td>\n",
       "      <td>2505.0</td>\n",
       "      <td>2.0</td>\n",
       "      <td>41.5</td>\n",
       "      <td>55.5</td>\n",
       "      <td>2.95</td>\n",
       "      <td>3.02</td>\n",
       "      <td>160.0</td>\n",
       "      <td>...</td>\n",
       "      <td>power</td>\n",
       "      <td>18.0</td>\n",
       "      <td>205/60</td>\n",
       "      <td>man.5</td>\n",
       "      <td>auto.4</td>\n",
       "      <td>42.0</td>\n",
       "      <td>Medium</td>\n",
       "      <td>3265.0</td>\n",
       "      <td>109</td>\n",
       "      <td>69</td>\n",
       "    </tr>\n",
       "    <tr>\n",
       "      <th>Audi 100</th>\n",
       "      <td>Germany</td>\n",
       "      <td>141.0</td>\n",
       "      <td>2.3</td>\n",
       "      <td>2775.0</td>\n",
       "      <td>2.5</td>\n",
       "      <td>41.5</td>\n",
       "      <td>56.5</td>\n",
       "      <td>3.27</td>\n",
       "      <td>3.25</td>\n",
       "      <td>130.0</td>\n",
       "      <td>...</td>\n",
       "      <td>power</td>\n",
       "      <td>21.1</td>\n",
       "      <td>205/60</td>\n",
       "      <td>man.5</td>\n",
       "      <td>auto.3</td>\n",
       "      <td>39.0</td>\n",
       "      <td>Medium</td>\n",
       "      <td>2935.0</td>\n",
       "      <td>106</td>\n",
       "      <td>71</td>\n",
       "    </tr>\n",
       "    <tr>\n",
       "      <th>Audi 80</th>\n",
       "      <td>Germany</td>\n",
       "      <td>121.0</td>\n",
       "      <td>2.0</td>\n",
       "      <td>2835.0</td>\n",
       "      <td>4.0</td>\n",
       "      <td>42.0</td>\n",
       "      <td>52.5</td>\n",
       "      <td>3.25</td>\n",
       "      <td>3.25</td>\n",
       "      <td>108.0</td>\n",
       "      <td>...</td>\n",
       "      <td>power</td>\n",
       "      <td>15.9</td>\n",
       "      <td>175/70</td>\n",
       "      <td>man.5</td>\n",
       "      <td>auto.3</td>\n",
       "      <td>35.0</td>\n",
       "      <td>Compact</td>\n",
       "      <td>2670.0</td>\n",
       "      <td>100</td>\n",
       "      <td>67</td>\n",
       "    </tr>\n",
       "    <tr>\n",
       "      <th>BMW 325i</th>\n",
       "      <td>Germany</td>\n",
       "      <td>152.0</td>\n",
       "      <td>2.5</td>\n",
       "      <td>2625.0</td>\n",
       "      <td>2.0</td>\n",
       "      <td>42.0</td>\n",
       "      <td>52.0</td>\n",
       "      <td>3.02</td>\n",
       "      <td>2.99</td>\n",
       "      <td>168.0</td>\n",
       "      <td>...</td>\n",
       "      <td>power</td>\n",
       "      <td>16.4</td>\n",
       "      <td>195/65</td>\n",
       "      <td>man.5</td>\n",
       "      <td>auto.4</td>\n",
       "      <td>35.0</td>\n",
       "      <td>Compact</td>\n",
       "      <td>2895.0</td>\n",
       "      <td>101</td>\n",
       "      <td>65</td>\n",
       "    </tr>\n",
       "  </tbody>\n",
       "</table>\n",
       "<p>5 rows × 34 columns</p>\n",
       "</div>"
      ],
      "text/plain": [
       "               Country   Disp  Disp2  Eng.Rev  Front.Hd  Frt.Leg.Room  \\\n",
       "Acura Integra    Japan  112.0    1.8   2935.0       3.5          41.5   \n",
       "Acura Legend     Japan  163.0    2.7   2505.0       2.0          41.5   \n",
       "Audi 100       Germany  141.0    2.3   2775.0       2.5          41.5   \n",
       "Audi 80        Germany  121.0    2.0   2835.0       4.0          42.0   \n",
       "BMW 325i       Germany  152.0    2.5   2625.0       2.0          42.0   \n",
       "\n",
       "               Frt.Shld  Gear.Ratio  Gear2     HP  ...    Steering  Tank  \\\n",
       "Acura Integra      53.0        3.26   3.21  130.0  ...       power  13.2   \n",
       "Acura Legend       55.5        2.95   3.02  160.0  ...       power  18.0   \n",
       "Audi 100           56.5        3.27   3.25  130.0  ...       power  21.1   \n",
       "Audi 80            52.5        3.25   3.25  108.0  ...       power  15.9   \n",
       "BMW 325i           52.0        3.02   2.99  168.0  ...       power  16.4   \n",
       "\n",
       "                Tires  Trans1  Trans2 Turning     Type  Weight  Wheel.base  \\\n",
       "Acura Integra  195/60   man.5  auto.4    37.0    Small  2700.0         102   \n",
       "Acura Legend   205/60   man.5  auto.4    42.0   Medium  3265.0         109   \n",
       "Audi 100       205/60   man.5  auto.3    39.0   Medium  2935.0         106   \n",
       "Audi 80        175/70   man.5  auto.3    35.0  Compact  2670.0         100   \n",
       "BMW 325i       195/65   man.5  auto.4    35.0  Compact  2895.0         101   \n",
       "\n",
       "               Width  \n",
       "Acura Integra     67  \n",
       "Acura Legend      69  \n",
       "Audi 100          71  \n",
       "Audi 80           67  \n",
       "BMW 325i          65  \n",
       "\n",
       "[5 rows x 34 columns]"
      ]
     },
     "execution_count": 159,
     "metadata": {},
     "output_type": "execute_result"
    }
   ],
   "source": [
    "from pydataset import data\n",
    "import pandas as pd\n",
    "df3 = data('car90')\n",
    "df3.head()"
   ]
  },
  {
   "cell_type": "code",
   "execution_count": 185,
   "metadata": {},
   "outputs": [
    {
     "data": {
      "text/plain": [
       "'Cadillac Brougham'"
      ]
     },
     "execution_count": 185,
     "metadata": {},
     "output_type": "execute_result"
    }
   ],
   "source": [
    "df3['Weight'].idxmax() #returns the index associated with the maximum value of the specified column"
   ]
  },
  {
   "cell_type": "markdown",
   "metadata": {},
   "source": [
    "### Question 12"
   ]
  },
  {
   "cell_type": "markdown",
   "metadata": {},
   "source": [
    "Create a dictionary dict1 in which each key is an even number in list2 and each value is half of the corresponding key"
   ]
  },
  {
   "cell_type": "code",
   "execution_count": 186,
   "metadata": {},
   "outputs": [
    {
     "data": {
      "text/plain": [
       "array([51, 92, 14, 71, 60, 20, 82, 86, 74, 74, 87, 99, 23,  2, 21, 52,  1,\n",
       "       87, 29, 37])"
      ]
     },
     "execution_count": 186,
     "metadata": {},
     "output_type": "execute_result"
    }
   ],
   "source": [
    "import numpy as np\n",
    "np.random.seed(42)\n",
    "list2 = np.random.randint(0,100,20)\n",
    "list2"
   ]
  },
  {
   "cell_type": "code",
   "execution_count": 193,
   "metadata": {},
   "outputs": [
    {
     "data": {
      "text/plain": [
       "{92: 46.0,\n",
       " 14: 7.0,\n",
       " 60: 30.0,\n",
       " 20: 10.0,\n",
       " 82: 41.0,\n",
       " 86: 43.0,\n",
       " 74: 37.0,\n",
       " 2: 1.0,\n",
       " 52: 26.0}"
      ]
     },
     "execution_count": 193,
     "metadata": {},
     "output_type": "execute_result"
    }
   ],
   "source": [
    "dict1 = {}\n",
    "for num in list2:\n",
    "    if(num%2==0):\n",
    "        dict1.update({num:num/2})\n",
    "dict1"
   ]
  },
  {
   "cell_type": "markdown",
   "metadata": {},
   "source": [
    "### Question 13"
   ]
  },
  {
   "cell_type": "markdown",
   "metadata": {},
   "source": [
    "Replace the missing values in the Dataframe df4 with the average value in each corresponding column"
   ]
  },
  {
   "cell_type": "code",
   "execution_count": 24,
   "metadata": {},
   "outputs": [
    {
     "data": {
      "text/html": [
       "<div>\n",
       "<style scoped>\n",
       "    .dataframe tbody tr th:only-of-type {\n",
       "        vertical-align: middle;\n",
       "    }\n",
       "\n",
       "    .dataframe tbody tr th {\n",
       "        vertical-align: top;\n",
       "    }\n",
       "\n",
       "    .dataframe thead th {\n",
       "        text-align: right;\n",
       "    }\n",
       "</style>\n",
       "<table border=\"1\" class=\"dataframe\">\n",
       "  <thead>\n",
       "    <tr style=\"text-align: right;\">\n",
       "      <th></th>\n",
       "      <th>Category</th>\n",
       "      <th>Value1</th>\n",
       "      <th>Value2</th>\n",
       "      <th>Value3</th>\n",
       "    </tr>\n",
       "  </thead>\n",
       "  <tbody>\n",
       "    <tr>\n",
       "      <th>0</th>\n",
       "      <td>A</td>\n",
       "      <td>NaN</td>\n",
       "      <td>84.0</td>\n",
       "      <td>83.0</td>\n",
       "    </tr>\n",
       "    <tr>\n",
       "      <th>1</th>\n",
       "      <td>B</td>\n",
       "      <td>78.0</td>\n",
       "      <td>NaN</td>\n",
       "      <td>69.0</td>\n",
       "    </tr>\n",
       "    <tr>\n",
       "      <th>2</th>\n",
       "      <td>C</td>\n",
       "      <td>82.0</td>\n",
       "      <td>81.0</td>\n",
       "      <td>73.0</td>\n",
       "    </tr>\n",
       "    <tr>\n",
       "      <th>3</th>\n",
       "      <td>D</td>\n",
       "      <td>72.0</td>\n",
       "      <td>74.0</td>\n",
       "      <td>77.0</td>\n",
       "    </tr>\n",
       "    <tr>\n",
       "      <th>4</th>\n",
       "      <td>A</td>\n",
       "      <td>NaN</td>\n",
       "      <td>68.0</td>\n",
       "      <td>NaN</td>\n",
       "    </tr>\n",
       "    <tr>\n",
       "      <th>5</th>\n",
       "      <td>B</td>\n",
       "      <td>90.0</td>\n",
       "      <td>NaN</td>\n",
       "      <td>90.0</td>\n",
       "    </tr>\n",
       "    <tr>\n",
       "      <th>6</th>\n",
       "      <td>C</td>\n",
       "      <td>NaN</td>\n",
       "      <td>NaN</td>\n",
       "      <td>89.0</td>\n",
       "    </tr>\n",
       "    <tr>\n",
       "      <th>7</th>\n",
       "      <td>D</td>\n",
       "      <td>87.0</td>\n",
       "      <td>91.0</td>\n",
       "      <td>74.0</td>\n",
       "    </tr>\n",
       "  </tbody>\n",
       "</table>\n",
       "</div>"
      ],
      "text/plain": [
       "  Category  Value1  Value2  Value3\n",
       "0        A     NaN    84.0    83.0\n",
       "1        B    78.0     NaN    69.0\n",
       "2        C    82.0    81.0    73.0\n",
       "3        D    72.0    74.0    77.0\n",
       "4        A     NaN    68.0     NaN\n",
       "5        B    90.0     NaN    90.0\n",
       "6        C     NaN     NaN    89.0\n",
       "7        D    87.0    91.0    74.0"
      ]
     },
     "execution_count": 24,
     "metadata": {},
     "output_type": "execute_result"
    }
   ],
   "source": [
    "import pandas as pd, numpy as np\n",
    "sample_data = {'Category': ['A', 'B', 'C', 'D'] * 2\n",
    "               , 'Value1': [np.nan, 78, 82, 72, np.nan, 90, np.nan, 87]\n",
    "               , 'Value2': [84, np.nan, 81, 74, 68, np.nan, np.nan, 91]\n",
    "               , 'Value3': [83, 69, 73, 77, np.nan, 90, 89, 74]\n",
    "              }\n",
    "df4 = pd.DataFrame(data = sample_data)\n",
    "df4"
   ]
  },
  {
   "cell_type": "code",
   "execution_count": 25,
   "metadata": {},
   "outputs": [
    {
     "data": {
      "text/html": [
       "<div>\n",
       "<style scoped>\n",
       "    .dataframe tbody tr th:only-of-type {\n",
       "        vertical-align: middle;\n",
       "    }\n",
       "\n",
       "    .dataframe tbody tr th {\n",
       "        vertical-align: top;\n",
       "    }\n",
       "\n",
       "    .dataframe thead th {\n",
       "        text-align: right;\n",
       "    }\n",
       "</style>\n",
       "<table border=\"1\" class=\"dataframe\">\n",
       "  <thead>\n",
       "    <tr style=\"text-align: right;\">\n",
       "      <th></th>\n",
       "      <th>Category</th>\n",
       "      <th>Value1</th>\n",
       "      <th>Value2</th>\n",
       "      <th>Value3</th>\n",
       "    </tr>\n",
       "  </thead>\n",
       "  <tbody>\n",
       "    <tr>\n",
       "      <th>0</th>\n",
       "      <td>A</td>\n",
       "      <td>81.8</td>\n",
       "      <td>84.0</td>\n",
       "      <td>83.000000</td>\n",
       "    </tr>\n",
       "    <tr>\n",
       "      <th>1</th>\n",
       "      <td>B</td>\n",
       "      <td>78.0</td>\n",
       "      <td>79.6</td>\n",
       "      <td>69.000000</td>\n",
       "    </tr>\n",
       "    <tr>\n",
       "      <th>2</th>\n",
       "      <td>C</td>\n",
       "      <td>82.0</td>\n",
       "      <td>81.0</td>\n",
       "      <td>73.000000</td>\n",
       "    </tr>\n",
       "    <tr>\n",
       "      <th>3</th>\n",
       "      <td>D</td>\n",
       "      <td>72.0</td>\n",
       "      <td>74.0</td>\n",
       "      <td>77.000000</td>\n",
       "    </tr>\n",
       "    <tr>\n",
       "      <th>4</th>\n",
       "      <td>A</td>\n",
       "      <td>81.8</td>\n",
       "      <td>68.0</td>\n",
       "      <td>79.285714</td>\n",
       "    </tr>\n",
       "    <tr>\n",
       "      <th>5</th>\n",
       "      <td>B</td>\n",
       "      <td>90.0</td>\n",
       "      <td>79.6</td>\n",
       "      <td>90.000000</td>\n",
       "    </tr>\n",
       "    <tr>\n",
       "      <th>6</th>\n",
       "      <td>C</td>\n",
       "      <td>81.8</td>\n",
       "      <td>79.6</td>\n",
       "      <td>89.000000</td>\n",
       "    </tr>\n",
       "    <tr>\n",
       "      <th>7</th>\n",
       "      <td>D</td>\n",
       "      <td>87.0</td>\n",
       "      <td>91.0</td>\n",
       "      <td>74.000000</td>\n",
       "    </tr>\n",
       "  </tbody>\n",
       "</table>\n",
       "</div>"
      ],
      "text/plain": [
       "  Category  Value1  Value2     Value3\n",
       "0        A    81.8    84.0  83.000000\n",
       "1        B    78.0    79.6  69.000000\n",
       "2        C    82.0    81.0  73.000000\n",
       "3        D    72.0    74.0  77.000000\n",
       "4        A    81.8    68.0  79.285714\n",
       "5        B    90.0    79.6  90.000000\n",
       "6        C    81.8    79.6  89.000000\n",
       "7        D    87.0    91.0  74.000000"
      ]
     },
     "execution_count": 25,
     "metadata": {},
     "output_type": "execute_result"
    }
   ],
   "source": [
    "df4.fillna(df4.mean())  #filling NaN positions  "
   ]
  },
  {
   "cell_type": "markdown",
   "metadata": {},
   "source": [
    "### Question 14"
   ]
  },
  {
   "cell_type": "markdown",
   "metadata": {},
   "source": [
    "Write a function named isPhoneNumber() to check whether a given string is a phone number with the same pattern as '919-684-2200'. Return True if the patterns match. Otherwise, return False."
   ]
  },
  {
   "cell_type": "code",
   "execution_count": 2,
   "metadata": {},
   "outputs": [],
   "source": [
    "import re\n",
    "def isPhoneNumber(num): \n",
    "    \"\"\"Tells whether the entered string is in the following format or not: '919-684-2200'\"\"\"\n",
    "    num=num.replace(\" \",\"\") #removing any space in the input string\n",
    "    match_num=re.search(r'^(\\d{3})-(\\d{3})\\-(\\d{4})$', num) #matching string using regex\n",
    "    return(bool(match_num))"
   ]
  },
  {
   "cell_type": "code",
   "execution_count": 3,
   "metadata": {},
   "outputs": [
    {
     "data": {
      "text/plain": [
       "True"
      ]
     },
     "execution_count": 3,
     "metadata": {},
     "output_type": "execute_result"
    }
   ],
   "source": [
    "isPhoneNumber(' 921  - 898 - 7777')"
   ]
  },
  {
   "cell_type": "code",
   "execution_count": 6,
   "metadata": {},
   "outputs": [
    {
     "data": {
      "text/plain": [
       "True"
      ]
     },
     "execution_count": 6,
     "metadata": {},
     "output_type": "execute_result"
    }
   ],
   "source": [
    "isPhoneNumber(\"923-897-2222\")"
   ]
  },
  {
   "cell_type": "markdown",
   "metadata": {},
   "source": [
    "### Question 15"
   ]
  },
  {
   "cell_type": "markdown",
   "metadata": {},
   "source": [
    "The copy() method is often used to create a copy of a list so that changing the values in the copy doesn't change the values in the original list (see the example as below)."
   ]
  },
  {
   "cell_type": "code",
   "execution_count": 232,
   "metadata": {},
   "outputs": [
    {
     "name": "stdout",
     "output_type": "stream",
     "text": [
      "[0 1 2 3 4]\n",
      "[100   1   2   3   4]\n"
     ]
    }
   ],
   "source": [
    "import numpy as np\n",
    "import copy\n",
    "arr = np.arange(5)\n",
    "arr_copy = copy.copy(arr)\n",
    "arr_copy[0] = 100\n",
    "print(arr)\n",
    "print(arr_copy)"
   ]
  },
  {
   "cell_type": "markdown",
   "metadata": {},
   "source": [
    "However, when the original list is a nested list, the copy() method doesn't function as expected, i.e. changing the values in the copy may change the values in the original list as well (see the example as below)."
   ]
  },
  {
   "cell_type": "code",
   "execution_count": 233,
   "metadata": {},
   "outputs": [
    {
     "name": "stdout",
     "output_type": "stream",
     "text": [
      "[[111, 200, 300], 1, 2, 3, 4]\n",
      "[[111, 200, 300], 1, 2, 3, 4]\n"
     ]
    }
   ],
   "source": [
    "arr = [[100,200,300], 1, 2, 3, 4]\n",
    "arr_copy = copy.copy(arr)\n",
    "arr_copy[0][0] = 111\n",
    "print(arr)\n",
    "print(arr_copy)"
   ]
  },
  {
   "cell_type": "markdown",
   "metadata": {},
   "source": [
    "Finish the following code and create a more *advanced* copy of the original list, so that the values in the original list won't change when we change the values in the copy."
   ]
  },
  {
   "cell_type": "code",
   "execution_count": 235,
   "metadata": {},
   "outputs": [
    {
     "name": "stdout",
     "output_type": "stream",
     "text": [
      "[[100, 200, 300], 1, 2, 3, 4]\n",
      "[[111, 200, 300], 1, 2, 3, 4]\n"
     ]
    }
   ],
   "source": [
    "arr = [[100,200,300], 1, 2, 3, 4]\n",
    "arr_copy = copy.deepcopy(arr) #deepcopy allows the values in the original list to not change as we change the copy\n",
    "arr_copy[0][0] = 111\n",
    "print(arr)\n",
    "print(arr_copy)"
   ]
  },
  {
   "cell_type": "markdown",
   "metadata": {},
   "source": [
    "## Non-Coding Questions"
   ]
  },
  {
   "cell_type": "markdown",
   "metadata": {},
   "source": [
    "### Question 16"
   ]
  },
  {
   "cell_type": "markdown",
   "metadata": {},
   "source": [
    "What's the main difference between the \"==\" and \"is\" operations?"
   ]
  },
  {
   "cell_type": "markdown",
   "metadata": {},
   "source": [
    "#### '==' and 'is' are both Comparision operators. \n",
    "#### 'is' operator compares the identity of two objects, i.e. are they pointing to the same object or not.\n",
    "#### '==' operator compares the values of two objects, i.e. the value store in those objects are equal or not."
   ]
  },
  {
   "cell_type": "markdown",
   "metadata": {},
   "source": [
    "### Question 17"
   ]
  },
  {
   "cell_type": "markdown",
   "metadata": {},
   "source": [
    "What's the main difference between the append() and insert() list methods?"
   ]
  },
  {
   "cell_type": "markdown",
   "metadata": {},
   "source": [
    "#### \"append(entry)\" adds new entry at the end of list while \"insert(position, entry)\" adds new entry at the specified position in the list."
   ]
  },
  {
   "cell_type": "code",
   "execution_count": 17,
   "metadata": {},
   "outputs": [],
   "source": [
    "list1 = [1,2]"
   ]
  },
  {
   "cell_type": "code",
   "execution_count": 18,
   "metadata": {},
   "outputs": [
    {
     "name": "stdout",
     "output_type": "stream",
     "text": [
      "[1, 2, 3]\n"
     ]
    }
   ],
   "source": [
    "list1.append(3)\n",
    "print(list1)"
   ]
  },
  {
   "cell_type": "code",
   "execution_count": 19,
   "metadata": {},
   "outputs": [
    {
     "name": "stdout",
     "output_type": "stream",
     "text": [
      "[1, 3, 2, 3]\n"
     ]
    }
   ],
   "source": [
    "list1.insert(1,3)\n",
    "print(list1)"
   ]
  },
  {
   "cell_type": "markdown",
   "metadata": {},
   "source": [
    "### Question 18"
   ]
  },
  {
   "cell_type": "markdown",
   "metadata": {},
   "source": [
    "What's the main difference between the pass and continue statements?"
   ]
  },
  {
   "cell_type": "markdown",
   "metadata": {},
   "source": [
    "#### Continue statement is generally used in a loop, it gives back the control to the start of the loop for the next iteration \n",
    "#### Pass statement is a null operation, its function is to do nothing. Its generally used when you need a code syntactically but don't have anything as of now."
   ]
  },
  {
   "cell_type": "markdown",
   "metadata": {},
   "source": [
    "### Question 19"
   ]
  },
  {
   "cell_type": "markdown",
   "metadata": {},
   "source": [
    "What's the main difference between a list and a dictionary?"
   ]
  },
  {
   "cell_type": "markdown",
   "metadata": {},
   "source": [
    "### List:\n",
    "####         *Datastructure of python,\n",
    "####         *heterogenious container of items, \n",
    "####         *elements need not be unique,\n",
    "####         *Mutable, i.e. you can make changes with the existing elements of the list,\n",
    "####         *Ordered, i.e. the way you enter/update a list, it gets printed in the same order.\n",
    "\n",
    "\n",
    "### Dictionary:\n",
    "####         *Datastructure of python,\n",
    "####         *stored as key:value pair, \n",
    "####         *keys have to be unique, elements/values corresponding to the keys need not be unique,\n",
    "####         *Mutable, i.e. you can make changes with the existing elements of the list,\n",
    "####         *Not Ordered, i.e. the way you enter/update a list, it is not printed in the same order."
   ]
  },
  {
   "cell_type": "markdown",
   "metadata": {},
   "source": [
    "### Question 20"
   ]
  },
  {
   "cell_type": "markdown",
   "metadata": {},
   "source": [
    "What's the return value of a call to a function which doesn't have a return statement?"
   ]
  },
  {
   "cell_type": "markdown",
   "metadata": {},
   "source": [
    "#### None"
   ]
  }
 ],
 "metadata": {
  "kernelspec": {
   "display_name": "Python 3",
   "language": "python",
   "name": "python3"
  },
  "language_info": {
   "codemirror_mode": {
    "name": "ipython",
    "version": 3
   },
   "file_extension": ".py",
   "mimetype": "text/x-python",
   "name": "python",
   "nbconvert_exporter": "python",
   "pygments_lexer": "ipython3",
   "version": "3.7.0"
  }
 },
 "nbformat": 4,
 "nbformat_minor": 2
}
